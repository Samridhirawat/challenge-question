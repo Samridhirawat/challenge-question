{
  "nbformat": 4,
  "nbformat_minor": 0,
  "metadata": {
    "colab": {
      "provenance": [],
      "authorship_tag": "ABX9TyMyIIaga+Ob/AscdlqgtKJQ",
      "include_colab_link": true
    },
    "kernelspec": {
      "name": "python3",
      "display_name": "Python 3"
    },
    "language_info": {
      "name": "python"
    }
  },
  "cells": [
    {
      "cell_type": "markdown",
      "metadata": {
        "id": "view-in-github",
        "colab_type": "text"
      },
      "source": [
        "<a href=\"https://colab.research.google.com/github/Samridhirawat/challenge-question/blob/main/challenge_ques_.ipynb\" target=\"_parent\"><img src=\"https://colab.research.google.com/assets/colab-badge.svg\" alt=\"Open In Colab\"/></a>"
      ]
    },
    {
      "cell_type": "markdown",
      "source": [
        "# write a python program to sort the list of heterogenous data\n",
        "eg. l =[\"Ram\",1,\"Shyam \",2\"Aman\",3]\n",
        "\n",
        "print(l)\n",
        "\n",
        "l.sort()\n",
        "\n",
        "print(l)\n",
        "\n",
        "\n",
        "#above code gives error. correct it .\n",
        "\n"
      ],
      "metadata": {
        "id": "_HXs45rvhdBn"
      }
    },
    {
      "cell_type": "code",
      "source": [
        "l=[\"Ram\",1,\"Shyam\",2,\"Aman\",3]\n",
        "l=[str(i) for i in l]\n",
        "l.sort()\n",
        "print(l)\n",
        "print(l)"
      ],
      "metadata": {
        "colab": {
          "base_uri": "https://localhost:8080/"
        },
        "id": "6xHsIzTSinA1",
        "outputId": "77df43ec-e35d-4bab-aa5b-a49e8273738b"
      },
      "execution_count": null,
      "outputs": [
        {
          "output_type": "stream",
          "name": "stdout",
          "text": [
            "['1', '2', '3', 'Aman', 'Ram', 'Shyam']\n",
            "['1', '2', '3', 'Aman', 'Ram', 'Shyam']\n"
          ]
        }
      ]
    },
    {
      "cell_type": "markdown",
      "source": [
        "for solving this error we do this;"
      ],
      "metadata": {
        "id": "gwRzE2YZjm0-"
      }
    }
  ]
}